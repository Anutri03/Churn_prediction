{
 "cells": [
  {
   "cell_type": "markdown",
   "id": "87e81e96",
   "metadata": {},
   "source": [
    "[![Open In Colab](https://colab.research.google.com/assets/colab-badge.svg)](https://colab.research.google.com/github/Anutri03/Churn_prediction/blob/main/customer_churn_prediction.ipynb)\n"
   ]
  },
  {
   "cell_type": "markdown",
   "id": "10810353",
   "metadata": {},
   "source": []
  }
 ],
 "metadata": {
  "language_info": {
   "name": "python"
  }
 },
 "nbformat": 4,
 "nbformat_minor": 5
}
